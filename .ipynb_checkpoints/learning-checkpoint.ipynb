{
 "cells": [
  {
   "cell_type": "markdown",
   "metadata": {},
   "source": [
    "## Перегрузка арифметических операций на примере сложения векторов"
   ]
  },
  {
   "cell_type": "code",
   "execution_count": 7,
   "metadata": {},
   "outputs": [],
   "source": [
    "class Vector2:\n",
    "    def __init__(self, x, y):\n",
    "        self.x = x\n",
    "        self.y = y\n",
    "    \n",
    "    def __add__(self, v2):\n",
    "        '''Перегрузка оператора сложения'''\n",
    "        return Vector2(self.x+v2.x, self.y+v2.y)\n",
    "    \n",
    "    def __str__(self):\n",
    "        '''Перегрузка операции str(object)'''\n",
    "        return \"(x,y) = (%1.1f,%1.1f)\" % (self.x, self.y)\n",
    "    \n",
    "    def __abs__(self):\n",
    "        '''Перегрузка операции взятия по модулю'''\n",
    "        return (self.x**2 + self.y**2)**0.5"
   ]
  },
  {
   "cell_type": "code",
   "execution_count": 6,
   "metadata": {},
   "outputs": [
    {
     "name": "stdout",
     "output_type": "stream",
     "text": [
      "(x,y) = (6.0,4.0)\n",
      "7.211102550927978\n"
     ]
    }
   ],
   "source": [
    "a1 = Vector2(1, 2)\n",
    "a2 = Vector2(5, 2)\n",
    "\n",
    "a = a1 + a2\n",
    "\n",
    "print(a)\n",
    "print(abs(a))"
   ]
  },
  {
   "cell_type": "markdown",
   "metadata": {},
   "source": [
    "## Реализация простейшего итератора на примере листа"
   ]
  },
  {
   "cell_type": "code",
   "execution_count": 15,
   "metadata": {},
   "outputs": [],
   "source": [
    "class MyList:\n",
    "    def __init__(self, _list):\n",
    "        self.list = _list\n",
    "        self.it = 0\n",
    "        self.len = len(_list)\n",
    "        \n",
    "    def __iter__(self):\n",
    "        '''Магический метод, который делает класс итератором'''\n",
    "        return self\n",
    "    \n",
    "    def __next__(self):\n",
    "        if self.it < self.len:\n",
    "            self.it += 1\n",
    "            return self.list[self.it - 1]\n",
    "        else:\n",
    "            raise StopIteration()"
   ]
  },
  {
   "cell_type": "code",
   "execution_count": 16,
   "metadata": {},
   "outputs": [
    {
     "name": "stdout",
     "output_type": "stream",
     "text": [
      "0\n",
      "1\n",
      "2\n",
      "3\n",
      "4\n"
     ]
    }
   ],
   "source": [
    "l = MyList([0, 1, 2, 3, 4])\n",
    "for x in l:\n",
    "    print(x)"
   ]
  },
  {
   "cell_type": "code",
   "execution_count": null,
   "metadata": {},
   "outputs": [],
   "source": []
  }
 ],
 "metadata": {
  "kernelspec": {
   "display_name": "Python 3",
   "language": "python",
   "name": "python3"
  },
  "language_info": {
   "codemirror_mode": {
    "name": "ipython",
    "version": 3
   },
   "file_extension": ".py",
   "mimetype": "text/x-python",
   "name": "python",
   "nbconvert_exporter": "python",
   "pygments_lexer": "ipython3",
   "version": "3.6.5"
  }
 },
 "nbformat": 4,
 "nbformat_minor": 2
}
